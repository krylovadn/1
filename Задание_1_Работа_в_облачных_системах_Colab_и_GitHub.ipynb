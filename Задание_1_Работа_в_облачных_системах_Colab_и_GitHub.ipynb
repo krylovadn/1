{
  "nbformat": 4,
  "nbformat_minor": 0,
  "metadata": {
    "colab": {
      "name": "Задание 1. Работа в облачных системах Colab и GitHub",
      "provenance": [],
      "collapsed_sections": [],
      "authorship_tag": "ABX9TyNvd8zsq492S+Z8hnUiCTvX",
      "include_colab_link": true
    },
    "kernelspec": {
      "name": "python3",
      "display_name": "Python 3"
    }
  },
  "cells": [
    {
      "cell_type": "markdown",
      "metadata": {
        "id": "view-in-github",
        "colab_type": "text"
      },
      "source": [
        "<a href=\"https://colab.research.google.com/github/krylovadn/1/blob/main/%D0%97%D0%B0%D0%B4%D0%B0%D0%BD%D0%B8%D0%B5_1_%D0%A0%D0%B0%D0%B1%D0%BE%D1%82%D0%B0_%D0%B2_%D0%BE%D0%B1%D0%BB%D0%B0%D1%87%D0%BD%D1%8B%D1%85_%D1%81%D0%B8%D1%81%D1%82%D0%B5%D0%BC%D0%B0%D1%85_Colab_%D0%B8_GitHub.ipynb\" target=\"_parent\"><img src=\"https://colab.research.google.com/assets/colab-badge.svg\" alt=\"Open In Colab\"/></a>"
      ]
    },
    {
      "cell_type": "markdown",
      "metadata": {
        "id": "C98SmxK0j56r"
      },
      "source": [
        "Крылова Дана Юрьевна, КИ19-24б"
      ]
    },
    {
      "cell_type": "code",
      "metadata": {
        "colab": {
          "base_uri": "https://localhost:8080/"
        },
        "id": "3h-Qt8oKk5Bk",
        "outputId": "747e68ef-b244-43b0-be5a-6ac0d3db47f5"
      },
      "source": [
        "print(\"Привет, мир!\")"
      ],
      "execution_count": null,
      "outputs": [
        {
          "output_type": "stream",
          "text": [
            "Привет, мир!\n"
          ],
          "name": "stdout"
        }
      ]
    }
  ]
}